{
 "cells": [
  {
   "cell_type": "markdown",
   "id": "c69d18ed",
   "metadata": {},
   "source": [
    "# Data Science Tools and Ecosystem"
   ]
  },
  {
   "cell_type": "markdown",
   "id": "d49ea455",
   "metadata": {},
   "source": [
    "In this notebook, Data Science Tools and Ecosystem are summarized.\n",
    "\n",
    "Objectives: \n",
    "- List popular languages for data science\n",
    "- List commonly used libraries for data science\n",
    "- List data science tools\n",
    "- Show simple arithmetic expressions\n"
   ]
  },
  {
   "cell_type": "markdown",
   "id": "9babee51",
   "metadata": {},
   "source": [
    "Some of the popular languages that Data Scientists use are:\n",
    "\n",
    "- Python, R, SQL\n",
    "- Scala, Java, C++, and Julia (specific features)\n",
    "- JavaScript, PHP, Go, Ruby, and Visual Basic (unique cases)"
   ]
  },
  {
   "cell_type": "markdown",
   "id": "9352e673",
   "metadata": {},
   "source": [
    "Some of the commonly used libraries used by Data Scientists include:\n",
    "    \n",
    "- Pandas\n",
    "- NumPy\n",
    "- Matplotlib\n",
    "- Seaborn\n",
    "- Scikit-learn\n",
    "- Keras\n",
    "- PyTorch\n",
    "- Apache Spark\n",
    "- Spark Library\n",
    "- Scala Libraries:\n",
    "    - Vegas\n",
    "    - Big DL\n",
    "- R Libraries\n",
    "    - Ggplot2"
   ]
  },
  {
   "cell_type": "markdown",
   "id": "eb3c870d",
   "metadata": {},
   "source": [
    "\n",
    "\n",
    "\n",
    "|Data Science Tools|\n",
    "|--------|\n",
    "|Jupyter Notebook|\n",
    "|Jupyter Labs|\n",
    "|R Studio|"
   ]
  },
  {
   "cell_type": "markdown",
   "id": "c6ad7a06",
   "metadata": {},
   "source": [
    "Below are a few examples of evaluating arithmetic expressions in Python\n",
    "\n",
    "- 1 + 1\n",
    "- 2 - 1\n",
    "- 3 * 4\n",
    "- 4 / 2 \n"
   ]
  },
  {
   "cell_type": "code",
   "execution_count": 3,
   "id": "ee22266c",
   "metadata": {},
   "outputs": [
    {
     "data": {
      "text/plain": [
       "17"
      ]
     },
     "execution_count": 3,
     "metadata": {},
     "output_type": "execute_result"
    }
   ],
   "source": [
    "#this is a simple arithmetic expression to multiple intergers\n",
    "(3*4)+5"
   ]
  },
  {
   "cell_type": "code",
   "execution_count": 9,
   "id": "d556af71",
   "metadata": {},
   "outputs": [
    {
     "name": "stdout",
     "output_type": "stream",
     "text": [
      "3.3333333333333335\n"
     ]
    }
   ],
   "source": [
    "#200 minutes to hours\n",
    "\n",
    "x = 200/60\n",
    "print(x) #hours\n"
   ]
  },
  {
   "cell_type": "code",
   "execution_count": null,
   "id": "4721c306",
   "metadata": {},
   "outputs": [],
   "source": []
  }
 ],
 "metadata": {
  "kernelspec": {
   "display_name": "Python 3 (ipykernel)",
   "language": "python",
   "name": "python3"
  },
  "language_info": {
   "codemirror_mode": {
    "name": "ipython",
    "version": 3
   },
   "file_extension": ".py",
   "mimetype": "text/x-python",
   "name": "python",
   "nbconvert_exporter": "python",
   "pygments_lexer": "ipython3",
   "version": "3.11.5"
  }
 },
 "nbformat": 4,
 "nbformat_minor": 5
}
